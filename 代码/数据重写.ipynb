{
 "cells": [
  {
   "cell_type": "code",
   "execution_count": 1,
   "id": "22c44665",
   "metadata": {},
   "outputs": [],
   "source": [
    "import pandas as pd"
   ]
  },
  {
   "cell_type": "code",
   "execution_count": 2,
   "id": "9301eaac",
   "metadata": {},
   "outputs": [],
   "source": [
    "df=pd.read_excel(\"公众对利用菌藻互作技术处理污水的了解及接_数据详情表_原始数据_202308011507.xlsx\")"
   ]
  },
  {
   "cell_type": "code",
   "execution_count": 3,
   "id": "c6b4a1c0",
   "metadata": {},
   "outputs": [],
   "source": [
    "qunzong = []\n",
    "qiye=[]\n",
    "jishu=[]\n",
    "for index, value in df.iloc[:, 6].items():\n",
    "    if value == \"C.非生物专业技术人员（教师、医生、工程技术人员、作家等专业人员）\" or value == \"E.服务业工作者 （服务员、售票员、物业、快递员、业务员等）\" or value==\"G.从事农林牧渔业的劳动者\" or value==\"H.学生（不包含生物学、生态学、资源与环境类相关专业的硕士及以上学历人员）\" or value==\"L.其他\"or value==\"K.商务人员\":\n",
    "        qunzong.append(df.iloc[[index]])\n",
    "    if value == \"A.各级政府部门、企事业单位、党政机关和公众团体的管理者\" or value == \"D.职员（从事一般性事务工作的人员，如公务员,公司职员等）\" or value==\"F.产业工人\" or value==\"J.离退休人员\" or value==\"I.私营企业主\":\n",
    "        qiye.append(df.iloc[[index]])\n",
    "    if value==\"B.生物类专业技术人员（含生物学、生态学、资源与环境类相关专业的硕士及以上学历人员）\" :\n",
    "        jishu.append(df.iloc[[index]])\n",
    "# 将数据写入新的csv文件中\n",
    "result1 = pd.concat(qunzong)\n",
    "result1.to_csv('群众文字型.csv', index=False)\n",
    "result2 = pd.concat(qiye)\n",
    "result2.to_csv('企业文字型.csv', index=False)\n",
    "result3 = pd.concat(jishu)\n",
    "result3.to_csv('技术人员文字型.csv', index=False)"
   ]
  },
  {
   "cell_type": "code",
   "execution_count": null,
   "id": "6ce20399",
   "metadata": {},
   "outputs": [],
   "source": []
  }
 ],
 "metadata": {
  "kernelspec": {
   "display_name": "Python 3 (ipykernel)",
   "language": "python",
   "name": "python3"
  },
  "language_info": {
   "codemirror_mode": {
    "name": "ipython",
    "version": 3
   },
   "file_extension": ".py",
   "mimetype": "text/x-python",
   "name": "python",
   "nbconvert_exporter": "python",
   "pygments_lexer": "ipython3",
   "version": "3.7.7"
  }
 },
 "nbformat": 4,
 "nbformat_minor": 5
}
