{
 "cells": [
  {
   "cell_type": "code",
   "execution_count": null,
   "id": "0916eb0d",
   "metadata": {},
   "outputs": [],
   "source": [
    "import pandas as pd"
   ]
  },
  {
   "cell_type": "code",
   "execution_count": null,
   "id": "eda4f060",
   "metadata": {},
   "outputs": [],
   "source": [
    "df=pd.read_csv(\"2企业.csv\")\n",
    "df"
   ]
  },
  {
   "cell_type": "code",
   "execution_count": null,
   "id": "e532658e",
   "metadata": {},
   "outputs": [],
   "source": [
    "df[\"Q29A\"] = df[\"Q29|1\"].replace({2: 3, 3: 5, 4: 7, 5: 9})\n",
    "df[\"Q30A\"] = df[\"Q30|1\"].replace({1:2,2: 4, 3: 6, 4: 8, 5: 10})\n",
    "df.to_csv(\"企业数据的处理.csv\")"
   ]
  },
  {
   "cell_type": "code",
   "execution_count": null,
   "id": "2d027c4d",
   "metadata": {},
   "outputs": [],
   "source": []
  }
 ],
 "metadata": {
  "kernelspec": {
   "display_name": "Python 3 (ipykernel)",
   "language": "python",
   "name": "python3"
  },
  "language_info": {
   "codemirror_mode": {
    "name": "ipython",
    "version": 3
   },
   "file_extension": ".py",
   "mimetype": "text/x-python",
   "name": "python",
   "nbconvert_exporter": "python",
   "pygments_lexer": "ipython3",
   "version": "3.7.7"
  }
 },
 "nbformat": 4,
 "nbformat_minor": 5
}
